{
 "cells": [
  {
   "cell_type": "markdown",
   "metadata": {},
   "source": [
    "# Building a Trie in Python\n",
    "\n",
    "Before we start let us reiterate the key components of a Trie or Prefix Tree. A trie is a tree-like data structure that stores a dynamic set of strings. Tries are commonly used to facilitate operations like predictive text or autocomplete features on mobile phones or web search.\n",
    "\n",
    "Before we move into the autocomplete function we need to create a working trie for storing strings.  We will create two classes:\n",
    "* A `Trie` class that contains the root node (empty string)\n",
    "* A `TrieNode` class that exposes the general functionality of the Trie, like inserting a word or finding the node which represents a prefix.\n",
    "\n",
    "Give it a try by implementing the `TrieNode` and `Trie` classes below!"
   ]
  },
  {
   "cell_type": "code",
   "execution_count": 2,
   "metadata": {},
   "outputs": [],
   "source": [
    "## Represents a single node in the Trie\n",
    "\n",
    "class TrieNode:\n",
    "    def __init__(self,ends = None):\n",
    "        ## Initialize this node in the Trie\n",
    "        self.ends = ends\n",
    "        self.chars = {}\n",
    "\n",
    "    def insert(self, char):\n",
    "        nextnode = TrieNode()\n",
    "        self.chars[char] = nextnode\n",
    "        return nextnode\n",
    "\n",
    "## Add a child node in this Trie\n",
    "\n",
    "## The Trie itself containing the root node and insert/find functions\n",
    "class Trie:\n",
    "    def __init__(self):\n",
    "        ## Initialize this Trie (add a root node)\n",
    "        headnode = TrieNode()\n",
    "        self.head = headnode\n",
    "\n",
    "    def insert(self, word):\n",
    "        ## Add a word to the Trie\n",
    "        cur_node = self.head\n",
    "        for char in word:\n",
    "            if char in cur_node.chars:\n",
    "                cur_node = cur_node.chars[char]\n",
    "            else:\n",
    "                next_node = cur_node.insert(char)\n",
    "                cur_node = next_node\n",
    "        cur_node.ends = True\n",
    "\n",
    "    def find(self, prefix):\n",
    "        cur_node = self.head\n",
    "        for char in prefix:\n",
    "            if char in cur_node.chars:\n",
    "                cur_node = cur_node.chars[char]\n",
    "            else:\n",
    "                return None\n",
    "        return cur_node\n",
    "## Find the Trie node that represents this prefix\n"
   ]
  },
  {
   "cell_type": "markdown",
   "metadata": {},
   "source": [
    "# Finding Suffixes\n",
    "\n",
    "Now that we have a functioning Trie, we need to add the ability to list suffixes to implement our autocomplete feature.  To do that, we need to implement a new function on the `TrieNode` object that will return all complete word suffixes that exist below it in the trie.  For example, if our Trie contains the words `[\"fun\", \"function\", \"factory\"]` and we ask for suffixes from the `f` node, we would expect to receive `[\"un\", \"unction\", \"actory\"]` back from `node.suffixes()`.\n",
    "\n",
    "Using the code you wrote for the `TrieNode` above, try to add the suffixes function below. (Hint: recurse down the trie, collecting suffixes as you go.)"
   ]
  },
  {
   "cell_type": "code",
   "execution_count": 3,
   "metadata": {},
   "outputs": [],
   "source": [
    "def find_suf(node,word,res):\n",
    "\n",
    "    # If end_of_word at this node is true, then add the suffix to result list\n",
    "    if node.ends:\n",
    "        word.append(res)\n",
    "\n",
    "    for char in node.chars:\n",
    "        temp = res + char\n",
    "        find_suf(node.chars[char],word, temp)\n",
    "    return word\n",
    "\n",
    "## The Trie itself containing the root node and insert/find functions\n",
    "class Trie:\n",
    "    def __init__(self):\n",
    "        ## Initialize this Trie (add a root node)\n",
    "        headnode = TrieNode()\n",
    "        self.head = headnode\n",
    "\n",
    "    def insert(self, word):\n",
    "        ## Add a word to the Trie\n",
    "        cur_node = self.head\n",
    "        for char in word:\n",
    "            if char in cur_node.chars:\n",
    "                cur_node = cur_node.chars[char]\n",
    "            else:\n",
    "                next_node = cur_node.insert(char)\n",
    "                cur_node = next_node\n",
    "        cur_node.ends = True\n",
    "\n",
    "    def find(self, prefix):\n",
    "        cur_node = self.head\n",
    "        for char in prefix:\n",
    "            if char in cur_node.chars:\n",
    "                cur_node = cur_node.chars[char]\n",
    "            else:\n",
    "                return None\n",
    "        return cur_node\n",
    "## Find the Trie node that represents this prefix\n",
    "\n",
    "class TrieNode:\n",
    "    def __init__(self, ends = False):\n",
    "        ## Initialize this node in the Trie\n",
    "        self.chars = {}\n",
    "        self.ends = ends\n",
    "\n",
    "    def insert(self, char):\n",
    "        ## Add a child node in this Trie\n",
    "        nextnode = TrieNode()\n",
    "        self.chars[char] = nextnode\n",
    "        return nextnode\n",
    "\n",
    "    def suffixes(self, suffix=''):\n",
    "        word = list()\n",
    "        res = ''\n",
    "        return find_suf(self,word,res)\n",
    "\n",
    "        \n",
    "\n",
    "## Recursive function that collects the suffix for\n",
    "## all complete words below this point\n",
    "    "
   ]
  },
  {
   "cell_type": "markdown",
   "metadata": {},
   "source": [
    "# Testing it all out\n",
    "\n",
    "Run the following code to add some words to your trie and then use the interactive search box to see what your code returns."
   ]
  },
  {
   "cell_type": "code",
   "execution_count": 4,
   "metadata": {},
   "outputs": [
    {
     "name": "stdout",
     "output_type": "stream",
     "text": [
      "['rie', 'rigger', 'rigonometry', 'ripod']\n"
     ]
    }
   ],
   "source": [
    "MyTrie = Trie()\n",
    "wordList = [\n",
    "    \"ant\", \"anthology\", \"antagonist\", \"antonym\", \n",
    "    \"fun\", \"function\", \"factory\", \n",
    "    \"trie\", \"trigger\", \"trigonometry\", \"tripod\"\n",
    "]\n",
    "for word in wordList:\n",
    "    MyTrie.insert(word)\n",
    "node = MyTrie.find('t')\n",
    "print(node.suffixes())"
   ]
  },
  {
   "cell_type": "code",
   "execution_count": 5,
   "metadata": {},
   "outputs": [
    {
     "data": {
      "application/vnd.jupyter.widget-view+json": {
       "model_id": "a81c898bdaea4829af87b854eceee400",
       "version_major": 2,
       "version_minor": 0
      },
      "text/html": [
       "<p>Failed to display Jupyter Widget of type <code>interactive</code>.</p>\n",
       "<p>\n",
       "  If you're reading this message in the Jupyter Notebook or JupyterLab Notebook, it may mean\n",
       "  that the widgets JavaScript is still loading. If this message persists, it\n",
       "  likely means that the widgets JavaScript library is either not installed or\n",
       "  not enabled. See the <a href=\"https://ipywidgets.readthedocs.io/en/stable/user_install.html\">Jupyter\n",
       "  Widgets Documentation</a> for setup instructions.\n",
       "</p>\n",
       "<p>\n",
       "  If you're reading this message in another frontend (for example, a static\n",
       "  rendering on GitHub or <a href=\"https://nbviewer.jupyter.org/\">NBViewer</a>),\n",
       "  it may mean that your frontend doesn't currently support widgets.\n",
       "</p>\n"
      ],
      "text/plain": [
       "interactive(children=(Text(value='', description='prefix'), Output()), _dom_classes=('widget-interact',))"
      ]
     },
     "metadata": {},
     "output_type": "display_data"
    }
   ],
   "source": [
    "from ipywidgets import widgets\n",
    "from IPython.display import display\n",
    "from ipywidgets import interact\n",
    "def f(prefix):\n",
    "    if prefix != '':\n",
    "        prefixNode = MyTrie.find(prefix)\n",
    "        if prefixNode:\n",
    "            print('\\n'.join(prefixNode.suffixes()))\n",
    "        else:\n",
    "            print(prefix + \" not found\")\n",
    "    else:\n",
    "        print('')\n",
    "interact(f,prefix='');"
   ]
  }
 ],
 "metadata": {
  "kernelspec": {
   "display_name": "Python 3",
   "language": "python",
   "name": "python3"
  },
  "language_info": {
   "codemirror_mode": {
    "name": "ipython",
    "version": 3
   },
   "file_extension": ".py",
   "mimetype": "text/x-python",
   "name": "python",
   "nbconvert_exporter": "python",
   "pygments_lexer": "ipython3",
   "version": "3.6.3"
  },
  "widgets": {
   "state": {},
   "version": "1.1.2"
  }
 },
 "nbformat": 4,
 "nbformat_minor": 2
}
